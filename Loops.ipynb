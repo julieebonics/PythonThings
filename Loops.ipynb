{
 "cells": [
  {
   "cell_type": "code",
   "execution_count": 4,
   "metadata": {
    "collapsed": false
   },
   "outputs": [
    {
     "name": "stdout",
     "output_type": "stream",
     "text": [
      "x is currently:  0\n",
      "x is still elss than 10, adding 1 to x\n",
      "continue\n",
      "x is currently:  1\n",
      "x is still elss than 10, adding 1 to x\n",
      "continue\n",
      "x is currently:  2\n",
      "x is still elss than 10, adding 1 to x\n",
      "x is 3\n",
      "x is currently:  3\n",
      "x is still elss than 10, adding 1 to x\n",
      "continue\n",
      "x is currently:  4\n",
      "x is still elss than 10, adding 1 to x\n",
      "continue\n",
      "x is currently:  5\n",
      "x is still elss than 10, adding 1 to x\n",
      "continue\n",
      "x is currently:  6\n",
      "x is still elss than 10, adding 1 to x\n",
      "continue\n",
      "x is currently:  7\n",
      "x is still elss than 10, adding 1 to x\n",
      "continue\n",
      "x is currently:  8\n",
      "x is still elss than 10, adding 1 to x\n",
      "continue\n",
      "x is currently:  9\n",
      "x is still elss than 10, adding 1 to x\n",
      "continue\n"
     ]
    }
   ],
   "source": [
    "x = 0\n",
    "\n",
    "while x < 10:\n",
    "    print 'x is currently: ',x\n",
    "    print 'x is still elss than 10, adding 1 to x'\n",
    "    x += 1\n",
    "    \n",
    "    if x == 3:\n",
    "        print 'x is 3'\n",
    "    else:\n",
    "        print 'continue'\n",
    "        continue\n",
    "    \n",
    "            "
   ]
  },
  {
   "cell_type": "code",
   "execution_count": null,
   "metadata": {
    "collapsed": true
   },
   "outputs": [],
   "source": [
    "while True:\n",
    "    print 'super loop!'"
   ]
  }
 ],
 "metadata": {
  "anaconda-cloud": {},
  "kernelspec": {
   "display_name": "Python [conda root]",
   "language": "python",
   "name": "conda-root-py"
  },
  "language_info": {
   "codemirror_mode": {
    "name": "ipython",
    "version": 2
   },
   "file_extension": ".py",
   "mimetype": "text/x-python",
   "name": "python",
   "nbconvert_exporter": "python",
   "pygments_lexer": "ipython2",
   "version": "2.7.10"
  }
 },
 "nbformat": 4,
 "nbformat_minor": 2
}
